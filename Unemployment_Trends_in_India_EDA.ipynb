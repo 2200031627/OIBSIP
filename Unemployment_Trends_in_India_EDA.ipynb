{
  "metadata": {
    "kernelspec": {
      "language": "python",
      "display_name": "Python 3",
      "name": "python3"
    },
    "language_info": {
      "name": "python",
      "version": "3.10.13",
      "mimetype": "text/x-python",
      "codemirror_mode": {
        "name": "ipython",
        "version": 3
      },
      "pygments_lexer": "ipython3",
      "nbconvert_exporter": "python",
      "file_extension": ".py"
    },
    "kaggle": {
      "accelerator": "none",
      "dataSources": [
        {
          "sourceId": 1621146,
          "sourceType": "datasetVersion",
          "datasetId": 752131
        }
      ],
      "dockerImageVersionId": 30746,
      "isInternetEnabled": true,
      "language": "python",
      "sourceType": "notebook",
      "isGpuEnabled": false
    },
    "colab": {
      "name": "Unemployment Trends in India EDA",
      "provenance": []
    }
  },
  "nbformat_minor": 0,
  "nbformat": 4,
  "cells": [
    {
      "source": [
        "\n",
        "# IMPORTANT: RUN THIS CELL IN ORDER TO IMPORT YOUR KAGGLE DATA SOURCES\n",
        "# TO THE CORRECT LOCATION (/kaggle/input) IN YOUR NOTEBOOK,\n",
        "# THEN FEEL FREE TO DELETE THIS CELL.\n",
        "# NOTE: THIS NOTEBOOK ENVIRONMENT DIFFERS FROM KAGGLE'S PYTHON\n",
        "# ENVIRONMENT SO THERE MAY BE MISSING LIBRARIES USED BY YOUR\n",
        "# NOTEBOOK.\n",
        "\n",
        "import os\n",
        "import sys\n",
        "from tempfile import NamedTemporaryFile\n",
        "from urllib.request import urlopen\n",
        "from urllib.parse import unquote, urlparse\n",
        "from urllib.error import HTTPError\n",
        "from zipfile import ZipFile\n",
        "import tarfile\n",
        "import shutil\n",
        "\n",
        "CHUNK_SIZE = 40960\n",
        "DATA_SOURCE_MAPPING = 'unemployment-in-india:https%3A%2F%2Fstorage.googleapis.com%2Fkaggle-data-sets%2F752131%2F1621146%2Fbundle%2Farchive.zip%3FX-Goog-Algorithm%3DGOOG4-RSA-SHA256%26X-Goog-Credential%3Dgcp-kaggle-com%2540kaggle-161607.iam.gserviceaccount.com%252F20240824%252Fauto%252Fstorage%252Fgoog4_request%26X-Goog-Date%3D20240824T040828Z%26X-Goog-Expires%3D259200%26X-Goog-SignedHeaders%3Dhost%26X-Goog-Signature%3D52a0a08141f702b513089290a944002f126e946a88c0b96efbbde795aa95a6e5db5cd0fbf33575387f6a503e64fc07fe0607383f0fad7d37862d7e4902f619e79dced28e2924e2ec8c49b609c6e40ea153c2923393cd443d62eeec255f8dc00e503b7e9db229a4cbcf51b17eebe66248c034ef9268367ffc85787c1aca9e4a3b07fa2fa881ac57d8432f2a084f455bf3e03da2d327ba61c3766cf8ade46ecc74d4bc95571749bd786f00206f58923ad11f3a8317e522da13660fb2be8c938ab4d8931bc009069fbb4f5eb7f197f3d4f50b1b02285c5f1d948a8181fb8e18f2b11ca90f84ba42d266d1c3b7a9919afd77c6ebc9545a13841b689dc0728cb944c4'\n",
        "\n",
        "KAGGLE_INPUT_PATH='/kaggle/input'\n",
        "KAGGLE_WORKING_PATH='/kaggle/working'\n",
        "KAGGLE_SYMLINK='kaggle'\n",
        "\n",
        "!umount /kaggle/input/ 2> /dev/null\n",
        "shutil.rmtree('/kaggle/input', ignore_errors=True)\n",
        "os.makedirs(KAGGLE_INPUT_PATH, 0o777, exist_ok=True)\n",
        "os.makedirs(KAGGLE_WORKING_PATH, 0o777, exist_ok=True)\n",
        "\n",
        "try:\n",
        "  os.symlink(KAGGLE_INPUT_PATH, os.path.join(\"..\", 'input'), target_is_directory=True)\n",
        "except FileExistsError:\n",
        "  pass\n",
        "try:\n",
        "  os.symlink(KAGGLE_WORKING_PATH, os.path.join(\"..\", 'working'), target_is_directory=True)\n",
        "except FileExistsError:\n",
        "  pass\n",
        "\n",
        "for data_source_mapping in DATA_SOURCE_MAPPING.split(','):\n",
        "    directory, download_url_encoded = data_source_mapping.split(':')\n",
        "    download_url = unquote(download_url_encoded)\n",
        "    filename = urlparse(download_url).path\n",
        "    destination_path = os.path.join(KAGGLE_INPUT_PATH, directory)\n",
        "    try:\n",
        "        with urlopen(download_url) as fileres, NamedTemporaryFile() as tfile:\n",
        "            total_length = fileres.headers['content-length']\n",
        "            print(f'Downloading {directory}, {total_length} bytes compressed')\n",
        "            dl = 0\n",
        "            data = fileres.read(CHUNK_SIZE)\n",
        "            while len(data) > 0:\n",
        "                dl += len(data)\n",
        "                tfile.write(data)\n",
        "                done = int(50 * dl / int(total_length))\n",
        "                sys.stdout.write(f\"\\r[{'=' * done}{' ' * (50-done)}] {dl} bytes downloaded\")\n",
        "                sys.stdout.flush()\n",
        "                data = fileres.read(CHUNK_SIZE)\n",
        "            if filename.endswith('.zip'):\n",
        "              with ZipFile(tfile) as zfile:\n",
        "                zfile.extractall(destination_path)\n",
        "            else:\n",
        "              with tarfile.open(tfile.name) as tarfile:\n",
        "                tarfile.extractall(destination_path)\n",
        "            print(f'\\nDownloaded and uncompressed: {directory}')\n",
        "    except HTTPError as e:\n",
        "        print(f'Failed to load (likely expired) {download_url} to path {destination_path}')\n",
        "        continue\n",
        "    except OSError as e:\n",
        "        print(f'Failed to load {download_url} to path {destination_path}')\n",
        "        continue\n",
        "\n",
        "print('Data source import complete.')\n"
      ],
      "metadata": {
        "id": "rK3-5YDjtSv3",
        "outputId": "808216ba-b228-4788-817f-80083dc34b89",
        "colab": {
          "base_uri": "https://localhost:8080/"
        }
      },
      "cell_type": "code",
      "outputs": [
        {
          "output_type": "stream",
          "name": "stdout",
          "text": [
            "Downloading unemployment-in-india, 16335 bytes compressed\n",
            "\r[==================================================] 16335 bytes downloaded\n",
            "Downloaded and uncompressed: unemployment-in-india\n",
            "Data source import complete.\n"
          ]
        }
      ],
      "execution_count": 1
    },
    {
      "cell_type": "code",
      "source": [
        "import pandas as pd\n",
        "import seaborn as sns\n",
        "import matplotlib.pyplot as plt\n",
        "%matplotlib inline"
      ],
      "metadata": {
        "execution": {
          "iopub.status.busy": "2024-08-09T16:23:29.198843Z",
          "iopub.execute_input": "2024-08-09T16:23:29.199309Z",
          "iopub.status.idle": "2024-08-09T16:23:29.206569Z",
          "shell.execute_reply.started": "2024-08-09T16:23:29.199256Z",
          "shell.execute_reply": "2024-08-09T16:23:29.205176Z"
        },
        "trusted": true,
        "id": "25iV4CL1tSwA"
      },
      "execution_count": null,
      "outputs": []
    },
    {
      "cell_type": "code",
      "source": [
        "df1=pd.read_csv(\"https://raw.githubusercontent.com/jarif87/DataSets/main/unemployee_india.csv\")\n",
        "df2=pd.read_csv(\"https://raw.githubusercontent.com/jarif87/DataSets/main/Unemployment_Rate_upto_11_2020.csv\")"
      ],
      "metadata": {
        "execution": {
          "iopub.status.busy": "2024-08-09T16:23:29.210345Z",
          "iopub.execute_input": "2024-08-09T16:23:29.211391Z",
          "iopub.status.idle": "2024-08-09T16:23:29.481545Z",
          "shell.execute_reply.started": "2024-08-09T16:23:29.211347Z",
          "shell.execute_reply": "2024-08-09T16:23:29.480507Z"
        },
        "trusted": true,
        "id": "tM_PvruotSwC"
      },
      "execution_count": null,
      "outputs": []
    },
    {
      "cell_type": "code",
      "source": [
        "df1.head()"
      ],
      "metadata": {
        "execution": {
          "iopub.status.busy": "2024-08-09T16:23:29.483787Z",
          "iopub.execute_input": "2024-08-09T16:23:29.484197Z",
          "iopub.status.idle": "2024-08-09T16:23:29.500172Z",
          "shell.execute_reply.started": "2024-08-09T16:23:29.48416Z",
          "shell.execute_reply": "2024-08-09T16:23:29.498974Z"
        },
        "trusted": true,
        "id": "0W-i2I6CtSwD"
      },
      "execution_count": null,
      "outputs": []
    },
    {
      "cell_type": "code",
      "source": [
        "df1.columns"
      ],
      "metadata": {
        "execution": {
          "iopub.status.busy": "2024-08-09T16:23:29.501739Z",
          "iopub.execute_input": "2024-08-09T16:23:29.502189Z",
          "iopub.status.idle": "2024-08-09T16:23:29.511923Z",
          "shell.execute_reply.started": "2024-08-09T16:23:29.502148Z",
          "shell.execute_reply": "2024-08-09T16:23:29.510744Z"
        },
        "trusted": true,
        "id": "yvkYX7S7tSwE"
      },
      "execution_count": null,
      "outputs": []
    },
    {
      "cell_type": "code",
      "source": [
        "df1.head()"
      ],
      "metadata": {
        "execution": {
          "iopub.status.busy": "2024-08-09T16:23:29.514805Z",
          "iopub.execute_input": "2024-08-09T16:23:29.515222Z",
          "iopub.status.idle": "2024-08-09T16:23:29.533337Z",
          "shell.execute_reply.started": "2024-08-09T16:23:29.515183Z",
          "shell.execute_reply": "2024-08-09T16:23:29.532157Z"
        },
        "trusted": true,
        "id": "F1CoOm9htSwF"
      },
      "execution_count": null,
      "outputs": []
    },
    {
      "cell_type": "code",
      "source": [
        "df1.info()"
      ],
      "metadata": {
        "execution": {
          "iopub.status.busy": "2024-08-09T16:23:29.534685Z",
          "iopub.execute_input": "2024-08-09T16:23:29.535021Z",
          "iopub.status.idle": "2024-08-09T16:23:29.550367Z",
          "shell.execute_reply.started": "2024-08-09T16:23:29.534993Z",
          "shell.execute_reply": "2024-08-09T16:23:29.549044Z"
        },
        "trusted": true,
        "id": "wY_3kYkStSwG"
      },
      "execution_count": null,
      "outputs": []
    },
    {
      "cell_type": "code",
      "source": [
        "df1.isnull().sum()"
      ],
      "metadata": {
        "execution": {
          "iopub.status.busy": "2024-08-09T16:23:29.552159Z",
          "iopub.execute_input": "2024-08-09T16:23:29.552584Z",
          "iopub.status.idle": "2024-08-09T16:23:29.563992Z",
          "shell.execute_reply.started": "2024-08-09T16:23:29.552546Z",
          "shell.execute_reply": "2024-08-09T16:23:29.562879Z"
        },
        "trusted": true,
        "id": "HScnkCuxtSwI"
      },
      "execution_count": null,
      "outputs": []
    },
    {
      "cell_type": "code",
      "source": [
        "df1.shape"
      ],
      "metadata": {
        "execution": {
          "iopub.status.busy": "2024-08-09T16:23:29.565431Z",
          "iopub.execute_input": "2024-08-09T16:23:29.565868Z",
          "iopub.status.idle": "2024-08-09T16:23:29.576475Z",
          "shell.execute_reply.started": "2024-08-09T16:23:29.565828Z",
          "shell.execute_reply": "2024-08-09T16:23:29.575259Z"
        },
        "trusted": true,
        "id": "OzM0OkEltSwJ"
      },
      "execution_count": null,
      "outputs": []
    },
    {
      "cell_type": "code",
      "source": [
        "df1=df1.dropna()"
      ],
      "metadata": {
        "execution": {
          "iopub.status.busy": "2024-08-09T16:23:29.577895Z",
          "iopub.execute_input": "2024-08-09T16:23:29.578737Z",
          "iopub.status.idle": "2024-08-09T16:23:29.586719Z",
          "shell.execute_reply.started": "2024-08-09T16:23:29.578698Z",
          "shell.execute_reply": "2024-08-09T16:23:29.58556Z"
        },
        "trusted": true,
        "id": "2Y1IgeTftSwL"
      },
      "execution_count": null,
      "outputs": []
    },
    {
      "cell_type": "code",
      "source": [
        "df1.isnull().sum()"
      ],
      "metadata": {
        "execution": {
          "iopub.status.busy": "2024-08-09T16:23:29.588441Z",
          "iopub.execute_input": "2024-08-09T16:23:29.588816Z",
          "iopub.status.idle": "2024-08-09T16:23:29.602157Z",
          "shell.execute_reply.started": "2024-08-09T16:23:29.588788Z",
          "shell.execute_reply": "2024-08-09T16:23:29.60087Z"
        },
        "trusted": true,
        "id": "dCk6g_W0tSwM"
      },
      "execution_count": null,
      "outputs": []
    },
    {
      "cell_type": "code",
      "source": [
        "df1.describe()"
      ],
      "metadata": {
        "execution": {
          "iopub.status.busy": "2024-08-09T16:23:29.607387Z",
          "iopub.execute_input": "2024-08-09T16:23:29.608082Z",
          "iopub.status.idle": "2024-08-09T16:23:29.629678Z",
          "shell.execute_reply.started": "2024-08-09T16:23:29.608048Z",
          "shell.execute_reply": "2024-08-09T16:23:29.628666Z"
        },
        "trusted": true,
        "id": "h9ZbTinUtSwN"
      },
      "execution_count": null,
      "outputs": []
    },
    {
      "cell_type": "code",
      "source": [
        "df1[\" unemployment_rate\"]"
      ],
      "metadata": {
        "execution": {
          "iopub.status.busy": "2024-08-09T16:23:29.630856Z",
          "iopub.execute_input": "2024-08-09T16:23:29.631165Z",
          "iopub.status.idle": "2024-08-09T16:23:29.642218Z",
          "shell.execute_reply.started": "2024-08-09T16:23:29.631139Z",
          "shell.execute_reply": "2024-08-09T16:23:29.641084Z"
        },
        "trusted": true,
        "id": "RqkFHgcctSwN"
      },
      "execution_count": null,
      "outputs": []
    },
    {
      "cell_type": "code",
      "source": [
        "plt.figure(figsize=(15,10))\n",
        "sns.countplot(y=\"Region\",data=df1)\n",
        "plt.show()"
      ],
      "metadata": {
        "execution": {
          "iopub.status.busy": "2024-08-09T16:23:29.643731Z",
          "iopub.execute_input": "2024-08-09T16:23:29.644158Z",
          "iopub.status.idle": "2024-08-09T16:23:30.135999Z",
          "shell.execute_reply.started": "2024-08-09T16:23:29.644129Z",
          "shell.execute_reply": "2024-08-09T16:23:30.134899Z"
        },
        "trusted": true,
        "id": "mI6qRahJtSwO"
      },
      "execution_count": null,
      "outputs": []
    },
    {
      "cell_type": "markdown",
      "source": [
        "# avg,high,lowest unemployment rate"
      ],
      "metadata": {
        "id": "S_fysZ06tSwO"
      }
    },
    {
      "cell_type": "code",
      "source": [
        "avg_unemployment_rate=df1.groupby('Region')[' unemployment_rate'].mean()\n",
        "state_with_highest_unemployment=avg_unemployment_rate.idxmax()\n",
        "high_unemployment_rate=avg_unemployment_rate.max()\n",
        "state_with_lowest_unemployment=avg_unemployment_rate.idxmin()\n",
        "low_unemploy_rate=avg_unemployment_rate.min()\n",
        "print(f\"state  with  high employment : {state_with_highest_unemployment}\")\n",
        "print(f\"high employment rate : {high_unemployment_rate}\")\n",
        "print(f\"state  with  low employment : {state_with_lowest_unemployment}\")\n",
        "print(f\"low employment rate : {low_unemploy_rate}\")"
      ],
      "metadata": {
        "execution": {
          "iopub.status.busy": "2024-08-09T16:23:30.13768Z",
          "iopub.execute_input": "2024-08-09T16:23:30.138109Z",
          "iopub.status.idle": "2024-08-09T16:23:30.149902Z",
          "shell.execute_reply.started": "2024-08-09T16:23:30.138069Z",
          "shell.execute_reply": "2024-08-09T16:23:30.148785Z"
        },
        "trusted": true,
        "id": "0v5JOesItSwR"
      },
      "execution_count": null,
      "outputs": []
    },
    {
      "cell_type": "code",
      "source": [
        "regions = avg_unemployment_rate.index\n",
        "avg_rates = avg_unemployment_rate.values\n",
        "\n",
        "plt.figure(figsize=(10, 6))\n",
        "plt.bar(regions, avg_rates, color='skyblue')\n",
        "plt.xlabel('Region')\n",
        "plt.ylabel('Average Unemployment Rate')\n",
        "plt.title('Average Unemployment Rate by Region')\n",
        "plt.xticks(rotation=90)\n",
        "plt.tight_layout()\n",
        "plt.show()"
      ],
      "metadata": {
        "execution": {
          "iopub.status.busy": "2024-08-09T16:23:30.151705Z",
          "iopub.execute_input": "2024-08-09T16:23:30.152654Z",
          "iopub.status.idle": "2024-08-09T16:23:30.70584Z",
          "shell.execute_reply.started": "2024-08-09T16:23:30.15259Z",
          "shell.execute_reply": "2024-08-09T16:23:30.704789Z"
        },
        "trusted": true,
        "id": "qd75Eh0ztSwS"
      },
      "execution_count": null,
      "outputs": []
    },
    {
      "cell_type": "code",
      "source": [
        "plt.figure(figsize=(12, 6))\n",
        "sns.boxplot(x='Region', y=' unemployment_rate', data=df1,palette=\"Set1\")\n",
        "plt.title(\"Unemployment Rate Distribution by Region\")\n",
        "plt.xlabel(\"State\")\n",
        "plt.ylabel(\"Estimated Unemployment Rate\")\n",
        "plt.xticks(rotation=90)\n",
        "plt.show()"
      ],
      "metadata": {
        "execution": {
          "iopub.status.busy": "2024-08-09T16:23:30.707528Z",
          "iopub.execute_input": "2024-08-09T16:23:30.70795Z",
          "iopub.status.idle": "2024-08-09T16:23:31.47033Z",
          "shell.execute_reply.started": "2024-08-09T16:23:30.707912Z",
          "shell.execute_reply": "2024-08-09T16:23:31.469251Z"
        },
        "trusted": true,
        "id": "R-ZwybI8tSwT"
      },
      "execution_count": null,
      "outputs": []
    },
    {
      "cell_type": "code",
      "source": [
        "plt.figure(figsize=(12, 6))\n",
        "sns.boxplot(x='Region', y='Labour_Participation_Rate', data=df1,palette=\"hsv\")\n",
        "plt.title(\"Labour_Participation_ Rate\")\n",
        "plt.xlabel(\"Region\")\n",
        "plt.ylabel(\"Labour_Participation_ Rate\")\n",
        "plt.xticks(rotation=90)\n",
        "plt.show()"
      ],
      "metadata": {
        "execution": {
          "iopub.status.busy": "2024-08-09T16:23:31.472016Z",
          "iopub.execute_input": "2024-08-09T16:23:31.472368Z",
          "iopub.status.idle": "2024-08-09T16:23:32.218657Z",
          "shell.execute_reply.started": "2024-08-09T16:23:31.472338Z",
          "shell.execute_reply": "2024-08-09T16:23:32.217251Z"
        },
        "trusted": true,
        "id": "5afJuxUDtSwT"
      },
      "execution_count": null,
      "outputs": []
    },
    {
      "cell_type": "code",
      "source": [
        "plt.figure(figsize=(12, 6))\n",
        "sns.boxplot(x='Region', y='estimated_employee', data=df1,palette=\"brg\")\n",
        "plt.title(\"estimated_employee\")\n",
        "plt.xlabel(\"Region\")\n",
        "plt.ylabel(\"estimated_employee\")\n",
        "plt.xticks(rotation=90)\n",
        "plt.show()"
      ],
      "metadata": {
        "execution": {
          "iopub.status.busy": "2024-08-09T16:23:32.220192Z",
          "iopub.execute_input": "2024-08-09T16:23:32.22056Z",
          "iopub.status.idle": "2024-08-09T16:23:32.9844Z",
          "shell.execute_reply.started": "2024-08-09T16:23:32.220528Z",
          "shell.execute_reply": "2024-08-09T16:23:32.98307Z"
        },
        "trusted": true,
        "id": "Mbx29JkytSwU"
      },
      "execution_count": null,
      "outputs": []
    },
    {
      "cell_type": "code",
      "source": [
        "sns.histplot(data=df1, x=\" unemployment_rate\", kde=True,color=\"navy\")\n",
        "plt.show()"
      ],
      "metadata": {
        "execution": {
          "iopub.status.busy": "2024-08-09T16:23:32.986694Z",
          "iopub.execute_input": "2024-08-09T16:23:32.987596Z",
          "iopub.status.idle": "2024-08-09T16:23:33.389717Z",
          "shell.execute_reply.started": "2024-08-09T16:23:32.987457Z",
          "shell.execute_reply": "2024-08-09T16:23:33.388534Z"
        },
        "trusted": true,
        "id": "ygUgkBzVtSwV"
      },
      "execution_count": null,
      "outputs": []
    },
    {
      "cell_type": "code",
      "source": [
        "sns.histplot(data=df1, x=\"estimated_employee\", kde=True,color=\"brown\")\n",
        "plt.show()"
      ],
      "metadata": {
        "execution": {
          "iopub.status.busy": "2024-08-09T16:23:33.391042Z",
          "iopub.execute_input": "2024-08-09T16:23:33.391357Z",
          "iopub.status.idle": "2024-08-09T16:23:33.733602Z",
          "shell.execute_reply.started": "2024-08-09T16:23:33.391329Z",
          "shell.execute_reply": "2024-08-09T16:23:33.732422Z"
        },
        "trusted": true,
        "id": "gh6JoJhUtSwV"
      },
      "execution_count": null,
      "outputs": []
    },
    {
      "cell_type": "code",
      "source": [
        "sns.histplot(data=df1, x=\"Labour_Participation_Rate\", kde=True,color=\"darkorange\")\n",
        "plt.show()"
      ],
      "metadata": {
        "execution": {
          "iopub.status.busy": "2024-08-09T16:23:33.735243Z",
          "iopub.execute_input": "2024-08-09T16:23:33.735621Z",
          "iopub.status.idle": "2024-08-09T16:23:34.100792Z",
          "shell.execute_reply.started": "2024-08-09T16:23:33.73559Z",
          "shell.execute_reply": "2024-08-09T16:23:34.099682Z"
        },
        "trusted": true,
        "id": "HtyWB-hztSwV"
      },
      "execution_count": null,
      "outputs": []
    },
    {
      "cell_type": "markdown",
      "source": [
        "# Unemployment Rate vs. Labor Participation Rate"
      ],
      "metadata": {
        "id": "pkr5t4o_tSwW"
      }
    },
    {
      "cell_type": "code",
      "source": [
        "plt.figure(figsize=(10,7))\n",
        "sns.scatterplot(data=df1, x=\" unemployment_rate\", y=\"Labour_Participation_Rate\", hue=\"Region\")\n",
        "plt.show()"
      ],
      "metadata": {
        "execution": {
          "iopub.status.busy": "2024-08-09T16:23:34.102199Z",
          "iopub.execute_input": "2024-08-09T16:23:34.102562Z",
          "iopub.status.idle": "2024-08-09T16:23:35.113779Z",
          "shell.execute_reply.started": "2024-08-09T16:23:34.102525Z",
          "shell.execute_reply": "2024-08-09T16:23:35.112661Z"
        },
        "trusted": true,
        "id": "llOjdqYftSwW"
      },
      "execution_count": null,
      "outputs": []
    },
    {
      "cell_type": "code",
      "source": [
        "plt.figure(figsize=(10,7))\n",
        "sns.violinplot(x=df1[\"estimated_employee\"])\n",
        "plt.show()"
      ],
      "metadata": {
        "execution": {
          "iopub.status.busy": "2024-08-09T16:23:35.115184Z",
          "iopub.execute_input": "2024-08-09T16:23:35.115609Z",
          "iopub.status.idle": "2024-08-09T16:23:35.977155Z",
          "shell.execute_reply.started": "2024-08-09T16:23:35.115572Z",
          "shell.execute_reply": "2024-08-09T16:23:35.975986Z"
        },
        "trusted": true,
        "id": "_8opR_sCtSwW"
      },
      "execution_count": null,
      "outputs": []
    },
    {
      "cell_type": "code",
      "source": [
        "pair=df1[[\" unemployment_rate\",\"estimated_employee\",\"Labour_Participation_Rate\"]]\n",
        "sns.pairplot(pair,markers=\"*\",palette=\"winter\")\n",
        "plt.show()"
      ],
      "metadata": {
        "execution": {
          "iopub.status.busy": "2024-08-09T16:23:35.978625Z",
          "iopub.execute_input": "2024-08-09T16:23:35.97897Z",
          "iopub.status.idle": "2024-08-09T16:23:38.624762Z",
          "shell.execute_reply.started": "2024-08-09T16:23:35.97894Z",
          "shell.execute_reply": "2024-08-09T16:23:38.623638Z"
        },
        "trusted": true,
        "id": "Hz4dFwMjtSwX"
      },
      "execution_count": null,
      "outputs": []
    },
    {
      "cell_type": "code",
      "source": [
        "df1[\"Area\"].value_counts()"
      ],
      "metadata": {
        "execution": {
          "iopub.status.busy": "2024-08-09T16:23:38.626064Z",
          "iopub.execute_input": "2024-08-09T16:23:38.626385Z",
          "iopub.status.idle": "2024-08-09T16:23:38.635327Z",
          "shell.execute_reply.started": "2024-08-09T16:23:38.626356Z",
          "shell.execute_reply": "2024-08-09T16:23:38.634284Z"
        },
        "trusted": true,
        "id": "WRDy2pTBtSwX"
      },
      "execution_count": null,
      "outputs": []
    },
    {
      "cell_type": "code",
      "source": [
        "sns.countplot(x=\"Area\",data=df1)\n",
        "plt.show()"
      ],
      "metadata": {
        "execution": {
          "iopub.status.busy": "2024-08-09T16:23:38.636986Z",
          "iopub.execute_input": "2024-08-09T16:23:38.637329Z",
          "iopub.status.idle": "2024-08-09T16:23:38.795598Z",
          "shell.execute_reply.started": "2024-08-09T16:23:38.637302Z",
          "shell.execute_reply": "2024-08-09T16:23:38.794286Z"
        },
        "trusted": true,
        "id": "fFDISCRttSwY"
      },
      "execution_count": null,
      "outputs": []
    },
    {
      "cell_type": "markdown",
      "source": [
        "# Unemployment in India (2020)"
      ],
      "metadata": {
        "id": "zUoAgseptSwY"
      }
    },
    {
      "cell_type": "code",
      "source": [
        "df2.head()"
      ],
      "metadata": {
        "execution": {
          "iopub.status.busy": "2024-08-09T16:23:38.797874Z",
          "iopub.execute_input": "2024-08-09T16:23:38.798422Z",
          "iopub.status.idle": "2024-08-09T16:23:38.817712Z",
          "shell.execute_reply.started": "2024-08-09T16:23:38.798372Z",
          "shell.execute_reply": "2024-08-09T16:23:38.816558Z"
        },
        "trusted": true,
        "id": "Ra_SNIlFtSwY"
      },
      "execution_count": null,
      "outputs": []
    },
    {
      "cell_type": "code",
      "source": [
        "df2.shape"
      ],
      "metadata": {
        "execution": {
          "iopub.status.busy": "2024-08-09T16:23:38.819078Z",
          "iopub.execute_input": "2024-08-09T16:23:38.819457Z",
          "iopub.status.idle": "2024-08-09T16:23:38.830272Z",
          "shell.execute_reply.started": "2024-08-09T16:23:38.819427Z",
          "shell.execute_reply": "2024-08-09T16:23:38.829069Z"
        },
        "trusted": true,
        "id": "L5Q86GartSwZ"
      },
      "execution_count": null,
      "outputs": []
    },
    {
      "cell_type": "code",
      "source": [
        "df2.isnull().sum()"
      ],
      "metadata": {
        "execution": {
          "iopub.status.busy": "2024-08-09T16:23:38.837423Z",
          "iopub.execute_input": "2024-08-09T16:23:38.837772Z",
          "iopub.status.idle": "2024-08-09T16:23:38.847389Z",
          "shell.execute_reply.started": "2024-08-09T16:23:38.837736Z",
          "shell.execute_reply": "2024-08-09T16:23:38.846237Z"
        },
        "trusted": true,
        "id": "3Aq8ECzGtSwa"
      },
      "execution_count": null,
      "outputs": []
    },
    {
      "cell_type": "code",
      "source": [
        "df2.info()"
      ],
      "metadata": {
        "execution": {
          "iopub.status.busy": "2024-08-09T16:23:38.848827Z",
          "iopub.execute_input": "2024-08-09T16:23:38.849237Z",
          "iopub.status.idle": "2024-08-09T16:23:38.86531Z",
          "shell.execute_reply.started": "2024-08-09T16:23:38.8492Z",
          "shell.execute_reply": "2024-08-09T16:23:38.864181Z"
        },
        "trusted": true,
        "id": "tEkCOrgEtSwa"
      },
      "execution_count": null,
      "outputs": []
    },
    {
      "cell_type": "code",
      "source": [
        "df2.describe()"
      ],
      "metadata": {
        "execution": {
          "iopub.status.busy": "2024-08-09T16:23:38.86679Z",
          "iopub.execute_input": "2024-08-09T16:23:38.867204Z",
          "iopub.status.idle": "2024-08-09T16:23:38.896558Z",
          "shell.execute_reply.started": "2024-08-09T16:23:38.867165Z",
          "shell.execute_reply": "2024-08-09T16:23:38.895304Z"
        },
        "trusted": true,
        "id": "Sf6jSuoHtSwa"
      },
      "execution_count": null,
      "outputs": []
    },
    {
      "cell_type": "code",
      "source": [
        "plt.figure(figsize=(10,7))\n",
        "sns.countplot(y=\"Region\",data=df2)\n",
        "plt.show()"
      ],
      "metadata": {
        "execution": {
          "iopub.status.busy": "2024-08-09T16:23:38.898004Z",
          "iopub.execute_input": "2024-08-09T16:23:38.898405Z",
          "iopub.status.idle": "2024-08-09T16:23:39.348385Z",
          "shell.execute_reply.started": "2024-08-09T16:23:38.898368Z",
          "shell.execute_reply": "2024-08-09T16:23:39.347249Z"
        },
        "trusted": true,
        "id": "9vFRy-jqtSwb"
      },
      "execution_count": null,
      "outputs": []
    },
    {
      "cell_type": "code",
      "source": [
        "df2.head()"
      ],
      "metadata": {
        "execution": {
          "iopub.status.busy": "2024-08-09T16:23:39.350402Z",
          "iopub.execute_input": "2024-08-09T16:23:39.350802Z",
          "iopub.status.idle": "2024-08-09T16:23:39.368108Z",
          "shell.execute_reply.started": "2024-08-09T16:23:39.35077Z",
          "shell.execute_reply": "2024-08-09T16:23:39.366768Z"
        },
        "trusted": true,
        "id": "oCUptuFftSwc"
      },
      "execution_count": null,
      "outputs": []
    },
    {
      "cell_type": "code",
      "source": [
        "df2.columns"
      ],
      "metadata": {
        "execution": {
          "iopub.status.busy": "2024-08-09T16:23:39.36993Z",
          "iopub.execute_input": "2024-08-09T16:23:39.370811Z",
          "iopub.status.idle": "2024-08-09T16:23:39.380066Z",
          "shell.execute_reply.started": "2024-08-09T16:23:39.370767Z",
          "shell.execute_reply": "2024-08-09T16:23:39.378808Z"
        },
        "trusted": true,
        "id": "VhAxGEEItSwc"
      },
      "execution_count": null,
      "outputs": []
    },
    {
      "cell_type": "code",
      "source": [
        "import plotly.express as px\n",
        "fig = px.bar(df2, x=\"Region\", y=\" Estimated_Employed\", title=\" Estimated_Employed\",\n",
        "             animation_frame=' Date',template='plotly',color=\"Region.1\")\n",
        "fig.show()\n"
      ],
      "metadata": {
        "execution": {
          "iopub.status.busy": "2024-08-09T16:23:39.381355Z",
          "iopub.execute_input": "2024-08-09T16:23:39.381959Z",
          "iopub.status.idle": "2024-08-09T16:23:39.70565Z",
          "shell.execute_reply.started": "2024-08-09T16:23:39.381929Z",
          "shell.execute_reply": "2024-08-09T16:23:39.704512Z"
        },
        "trusted": true,
        "id": "Qx9pWeIktSwc"
      },
      "execution_count": null,
      "outputs": []
    },
    {
      "cell_type": "code",
      "source": [
        "fig = px.bar(df2, x=\"Region\", y=\" Estimated_Unemployment_Rate\", title=\"unemployee rate 2020\",\n",
        "             animation_frame=' Date',template='plotly',color=\"Region\")\n",
        "fig.show()"
      ],
      "metadata": {
        "execution": {
          "iopub.status.busy": "2024-08-09T16:23:39.707137Z",
          "iopub.execute_input": "2024-08-09T16:23:39.707545Z",
          "iopub.status.idle": "2024-08-09T16:23:41.069485Z",
          "shell.execute_reply.started": "2024-08-09T16:23:39.707489Z",
          "shell.execute_reply": "2024-08-09T16:23:41.068435Z"
        },
        "trusted": true,
        "id": "wmfRwDlOtSwn"
      },
      "execution_count": null,
      "outputs": []
    },
    {
      "cell_type": "code",
      "source": [
        "fig = px.bar(df2, x=\"Region\", y=\" Estimated_Labour_Participation_Rate\", title=\"labour_rate 2020\",\n",
        "             animation_frame=' Date',template='plotly',color=\"Region.1\")\n",
        "fig.show()"
      ],
      "metadata": {
        "execution": {
          "iopub.status.busy": "2024-08-09T16:23:41.070929Z",
          "iopub.execute_input": "2024-08-09T16:23:41.071319Z",
          "iopub.status.idle": "2024-08-09T16:23:41.397995Z",
          "shell.execute_reply.started": "2024-08-09T16:23:41.071282Z",
          "shell.execute_reply": "2024-08-09T16:23:41.396806Z"
        },
        "trusted": true,
        "id": "8BsyhUertSwo"
      },
      "execution_count": null,
      "outputs": []
    },
    {
      "cell_type": "markdown",
      "source": [
        "# Time Series Line Plot for Unemployment Rate by Region"
      ],
      "metadata": {
        "id": "pGHvDYDbtSwo"
      }
    },
    {
      "cell_type": "code",
      "source": [
        "fig = px.line(df2, x=' Date', y=\" Estimated_Unemployment_Rate\", color='Region.1',\n",
        "                    title='Unemployment Rate Over Time', template='plotly')\n",
        "fig.show()"
      ],
      "metadata": {
        "execution": {
          "iopub.status.busy": "2024-08-09T16:23:41.39923Z",
          "iopub.execute_input": "2024-08-09T16:23:41.399594Z",
          "iopub.status.idle": "2024-08-09T16:23:41.494347Z",
          "shell.execute_reply.started": "2024-08-09T16:23:41.399564Z",
          "shell.execute_reply": "2024-08-09T16:23:41.493265Z"
        },
        "trusted": true,
        "id": "gS-1Q4X_tSwp"
      },
      "execution_count": null,
      "outputs": []
    },
    {
      "cell_type": "markdown",
      "source": [
        "# Bar Plot for Average Unemployment Rate by Region"
      ],
      "metadata": {
        "id": "uABrqnNjtSwq"
      }
    },
    {
      "cell_type": "code",
      "source": [
        "avg_unemployment = df2.groupby('Region')[' Estimated_Unemployment_Rate'].mean().reset_index()\n",
        "\n",
        "bar_plot = px.bar(avg_unemployment, x='Region', y=' Estimated_Unemployment_Rate',\n",
        "                   title='Average Unemployment Rate by Region', template='plotly')\n",
        "bar_plot.show()"
      ],
      "metadata": {
        "execution": {
          "iopub.status.busy": "2024-08-09T16:23:41.495685Z",
          "iopub.execute_input": "2024-08-09T16:23:41.496012Z",
          "iopub.status.idle": "2024-08-09T16:23:41.570071Z",
          "shell.execute_reply.started": "2024-08-09T16:23:41.495984Z",
          "shell.execute_reply": "2024-08-09T16:23:41.569028Z"
        },
        "trusted": true,
        "id": "AboZqA2NtSwq"
      },
      "execution_count": null,
      "outputs": []
    },
    {
      "cell_type": "markdown",
      "source": [
        "# Bar Plot for Average labour Rate by Region"
      ],
      "metadata": {
        "id": "89hjDa37tSwq"
      }
    },
    {
      "cell_type": "code",
      "source": [
        "avg_unemployment = df2.groupby('Region')[' Estimated_Labour_Participation_Rate'].mean().reset_index()\n",
        "\n",
        "bar_plot = px.bar(avg_unemployment, x='Region', y=' Estimated_Labour_Participation_Rate',\n",
        "                   title='Average labour Rate by Region', template='plotly')\n",
        "bar_plot.show()"
      ],
      "metadata": {
        "execution": {
          "iopub.status.busy": "2024-08-09T16:23:41.571578Z",
          "iopub.execute_input": "2024-08-09T16:23:41.572Z",
          "iopub.status.idle": "2024-08-09T16:23:41.646957Z",
          "shell.execute_reply.started": "2024-08-09T16:23:41.571961Z",
          "shell.execute_reply": "2024-08-09T16:23:41.645959Z"
        },
        "trusted": true,
        "id": "Qh_JskBXtSwr"
      },
      "execution_count": null,
      "outputs": []
    },
    {
      "cell_type": "code",
      "source": [
        "df2.columns"
      ],
      "metadata": {
        "execution": {
          "iopub.status.busy": "2024-08-09T16:23:41.648182Z",
          "iopub.execute_input": "2024-08-09T16:23:41.648514Z",
          "iopub.status.idle": "2024-08-09T16:23:41.655639Z",
          "shell.execute_reply.started": "2024-08-09T16:23:41.648466Z",
          "shell.execute_reply": "2024-08-09T16:23:41.654568Z"
        },
        "trusted": true,
        "id": "_l6yosX9tSwr"
      },
      "execution_count": null,
      "outputs": []
    },
    {
      "cell_type": "markdown",
      "source": [
        "# Scatter Plot for Unemployment Rate vs. Estimated Employed"
      ],
      "metadata": {
        "id": "7gBWY22UtSwr"
      }
    },
    {
      "cell_type": "code",
      "source": [
        "fig = px.scatter(df2, x=' Estimated_Employed', y=' Estimated_Unemployment_Rate',\n",
        "                          color='Region.1', title='Unemployment Rate vs. Estimated Employed',animation_frame=\" Date\")\n",
        "fig.show()\n"
      ],
      "metadata": {
        "execution": {
          "iopub.status.busy": "2024-08-09T16:23:41.656919Z",
          "iopub.execute_input": "2024-08-09T16:23:41.657299Z",
          "iopub.status.idle": "2024-08-09T16:23:41.927048Z",
          "shell.execute_reply.started": "2024-08-09T16:23:41.657271Z",
          "shell.execute_reply": "2024-08-09T16:23:41.926004Z"
        },
        "trusted": true,
        "id": "pQ3KhGB4tSws"
      },
      "execution_count": null,
      "outputs": []
    },
    {
      "cell_type": "code",
      "source": [
        "fig = px.scatter(df2, x='Region.1', y=' Estimated_Labour_Participation_Rate',\n",
        "                          color='Region.1', title='Region.1 vs labour rate',animation_frame=\" Date\")\n",
        "fig.show()\n"
      ],
      "metadata": {
        "execution": {
          "iopub.status.busy": "2024-08-09T16:23:41.928375Z",
          "iopub.execute_input": "2024-08-09T16:23:41.928801Z",
          "iopub.status.idle": "2024-08-09T16:23:42.20874Z",
          "shell.execute_reply.started": "2024-08-09T16:23:41.928772Z",
          "shell.execute_reply": "2024-08-09T16:23:42.207459Z"
        },
        "trusted": true,
        "id": "VHmLUVKrtSws"
      },
      "execution_count": null,
      "outputs": []
    },
    {
      "cell_type": "code",
      "source": [
        "df2.columns"
      ],
      "metadata": {
        "execution": {
          "iopub.status.busy": "2024-08-09T16:23:42.210452Z",
          "iopub.execute_input": "2024-08-09T16:23:42.21083Z",
          "iopub.status.idle": "2024-08-09T16:23:42.217915Z",
          "shell.execute_reply.started": "2024-08-09T16:23:42.2108Z",
          "shell.execute_reply": "2024-08-09T16:23:42.216845Z"
        },
        "trusted": true,
        "id": "t9bbS8qAtSwt"
      },
      "execution_count": null,
      "outputs": []
    },
    {
      "cell_type": "markdown",
      "source": [
        "# Histogram for Estimated Labour Participation Rate"
      ],
      "metadata": {
        "id": "CXWARC0ctSwu"
      }
    },
    {
      "cell_type": "code",
      "source": [
        "fig = px.histogram(df2, x=' Estimated_Labour_Participation_Rate', color='Region.1',\n",
        "                         title='Distribution of Labour Participation Rate by Region', template='plotly')\n",
        "fig.show()"
      ],
      "metadata": {
        "execution": {
          "iopub.status.busy": "2024-08-09T16:23:42.219389Z",
          "iopub.execute_input": "2024-08-09T16:23:42.220141Z",
          "iopub.status.idle": "2024-08-09T16:23:42.316079Z",
          "shell.execute_reply.started": "2024-08-09T16:23:42.220098Z",
          "shell.execute_reply": "2024-08-09T16:23:42.315064Z"
        },
        "trusted": true,
        "id": "aPU2Rox-tSwv"
      },
      "execution_count": null,
      "outputs": []
    },
    {
      "cell_type": "markdown",
      "source": [
        "# Histogram for estimated_employee Rate"
      ],
      "metadata": {
        "id": "NvZmhjlbtSww"
      }
    },
    {
      "cell_type": "code",
      "source": [
        "fig = px.histogram(df2, x=' Estimated_Employed', color='Region.1',\n",
        "                         title='Distribution of Labour Participation Rate by Region', template='plotly')\n",
        "fig.show()"
      ],
      "metadata": {
        "execution": {
          "iopub.status.busy": "2024-08-09T16:23:42.317356Z",
          "iopub.execute_input": "2024-08-09T16:23:42.317706Z",
          "iopub.status.idle": "2024-08-09T16:23:42.411235Z",
          "shell.execute_reply.started": "2024-08-09T16:23:42.317677Z",
          "shell.execute_reply": "2024-08-09T16:23:42.410217Z"
        },
        "trusted": true,
        "id": "gMOMv8iatSww"
      },
      "execution_count": null,
      "outputs": []
    },
    {
      "cell_type": "code",
      "source": [
        "df2[\"Region.1\"].value_counts()"
      ],
      "metadata": {
        "execution": {
          "iopub.status.busy": "2024-08-09T16:23:42.412775Z",
          "iopub.execute_input": "2024-08-09T16:23:42.413192Z",
          "iopub.status.idle": "2024-08-09T16:23:42.421957Z",
          "shell.execute_reply.started": "2024-08-09T16:23:42.413152Z",
          "shell.execute_reply": "2024-08-09T16:23:42.420873Z"
        },
        "trusted": true,
        "id": "UU-Y2YOMtSww"
      },
      "execution_count": null,
      "outputs": []
    },
    {
      "cell_type": "code",
      "source": [
        "sns.countplot(y=\"Region.1\",data=df2)\n",
        "plt.show()"
      ],
      "metadata": {
        "execution": {
          "iopub.status.busy": "2024-08-09T16:23:42.423369Z",
          "iopub.execute_input": "2024-08-09T16:23:42.423995Z",
          "iopub.status.idle": "2024-08-09T16:23:42.6667Z",
          "shell.execute_reply.started": "2024-08-09T16:23:42.423957Z",
          "shell.execute_reply": "2024-08-09T16:23:42.665571Z"
        },
        "trusted": true,
        "id": "Iy8GYbnItSwx"
      },
      "execution_count": null,
      "outputs": []
    },
    {
      "cell_type": "code",
      "source": [],
      "metadata": {
        "id": "7Q0P3p4-tSwy"
      },
      "execution_count": null,
      "outputs": []
    }
  ]
}